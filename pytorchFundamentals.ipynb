{
  "nbformat": 4,
  "nbformat_minor": 0,
  "metadata": {
    "colab": {
      "provenance": [],
      "authorship_tag": "ABX9TyPZpnGJtdiVNkWWmmX9YmFt",
      "include_colab_link": true
    },
    "kernelspec": {
      "name": "python3",
      "display_name": "Python 3"
    },
    "language_info": {
      "name": "python"
    }
  },
  "cells": [
    {
      "cell_type": "markdown",
      "metadata": {
        "id": "view-in-github",
        "colab_type": "text"
      },
      "source": [
        "<a href=\"https://colab.research.google.com/github/sanjaya999/Pytorch/blob/main/pytorchFundamentals.ipynb\" target=\"_parent\"><img src=\"https://colab.research.google.com/assets/colab-badge.svg\" alt=\"Open In Colab\"/></a>"
      ]
    },
    {
      "cell_type": "code",
      "source": [
        "import torch\n",
        "print(torch.__version__)"
      ],
      "metadata": {
        "id": "3CeBSA4ywsnZ",
        "colab": {
          "base_uri": "https://localhost:8080/"
        },
        "outputId": "4000e199-53c8-4757-aa6f-3d684dce833a"
      },
      "execution_count": 2,
      "outputs": [
        {
          "output_type": "stream",
          "name": "stdout",
          "text": [
            "2.5.1+cu124\n"
          ]
        }
      ]
    },
    {
      "cell_type": "markdown",
      "source": [
        "##introduction to tensors\n",
        "###creating a tensor\n",
        "\n",
        "Pytorch tensors are created using torch.Tensor()\n"
      ],
      "metadata": {
        "id": "_cS7lLDAy0c1"
      }
    },
    {
      "cell_type": "code",
      "source": [
        "#scalar\n",
        "scalar = torch.tensor(7)\n",
        "scalar"
      ],
      "metadata": {
        "colab": {
          "base_uri": "https://localhost:8080/"
        },
        "id": "JD4D5oxJy1v9",
        "outputId": "452f405c-6fa4-4de9-9828-38d3686c0877"
      },
      "execution_count": 3,
      "outputs": [
        {
          "output_type": "execute_result",
          "data": {
            "text/plain": [
              "tensor(7)"
            ]
          },
          "metadata": {},
          "execution_count": 3
        }
      ]
    },
    {
      "cell_type": "code",
      "source": [
        "scalar.ndim #number of dimensions"
      ],
      "metadata": {
        "id": "uA2mr2tAzNdu",
        "colab": {
          "base_uri": "https://localhost:8080/"
        },
        "outputId": "5061c9eb-7306-46df-8a6f-1917e4ea6d22"
      },
      "execution_count": 4,
      "outputs": [
        {
          "output_type": "execute_result",
          "data": {
            "text/plain": [
              "0"
            ]
          },
          "metadata": {},
          "execution_count": 4
        }
      ]
    },
    {
      "cell_type": "markdown",
      "source": [],
      "metadata": {
        "id": "dAZjBzl1zd6z"
      }
    },
    {
      "cell_type": "markdown",
      "source": [],
      "metadata": {
        "id": "_ynwkXNszeFH"
      }
    },
    {
      "cell_type": "code",
      "source": [
        "scalar.item()"
      ],
      "metadata": {
        "colab": {
          "base_uri": "https://localhost:8080/"
        },
        "id": "lDJrT-fuzh6g",
        "outputId": "efc26ae3-885e-4554-d5a6-d3c9039c3211"
      },
      "execution_count": 5,
      "outputs": [
        {
          "output_type": "execute_result",
          "data": {
            "text/plain": [
              "7"
            ]
          },
          "metadata": {},
          "execution_count": 5
        }
      ]
    },
    {
      "cell_type": "markdown",
      "source": [],
      "metadata": {
        "id": "uNbv6KWZzkXS"
      }
    },
    {
      "cell_type": "code",
      "source": [
        "vector = torch.tensor([7,7])\n",
        "vector"
      ],
      "metadata": {
        "colab": {
          "base_uri": "https://localhost:8080/"
        },
        "id": "Q3cswQ2Fzocd",
        "outputId": "8588e2b5-9546-4573-bb14-72a0fbc24167"
      },
      "execution_count": 6,
      "outputs": [
        {
          "output_type": "execute_result",
          "data": {
            "text/plain": [
              "tensor([7, 7])"
            ]
          },
          "metadata": {},
          "execution_count": 6
        }
      ]
    },
    {
      "cell_type": "code",
      "source": [],
      "metadata": {
        "id": "Xu0r8BZcz6ST"
      },
      "execution_count": 6,
      "outputs": []
    },
    {
      "cell_type": "code",
      "source": [
        "vector.shape"
      ],
      "metadata": {
        "colab": {
          "base_uri": "https://localhost:8080/"
        },
        "id": "B2j3P5Ygz7g0",
        "outputId": "64b21f0b-a21f-447e-ebb3-9fb26dc8fde9"
      },
      "execution_count": 7,
      "outputs": [
        {
          "output_type": "execute_result",
          "data": {
            "text/plain": [
              "torch.Size([2])"
            ]
          },
          "metadata": {},
          "execution_count": 7
        }
      ]
    },
    {
      "cell_type": "code",
      "source": [
        "##MATRIX\n",
        "MATRIX = torch.tensor([[7,8],[5,2]])\n",
        "MATRIX"
      ],
      "metadata": {
        "colab": {
          "base_uri": "https://localhost:8080/"
        },
        "id": "6cfxiGSd0GWh",
        "outputId": "19d3a0a9-4e42-4bfb-f880-a2dc5ffe1c76"
      },
      "execution_count": 8,
      "outputs": [
        {
          "output_type": "execute_result",
          "data": {
            "text/plain": [
              "tensor([[7, 8],\n",
              "        [5, 2]])"
            ]
          },
          "metadata": {},
          "execution_count": 8
        }
      ]
    },
    {
      "cell_type": "code",
      "source": [
        "MATRIX.ndim #2square braket"
      ],
      "metadata": {
        "colab": {
          "base_uri": "https://localhost:8080/"
        },
        "id": "Zq1RnGDk0bAi",
        "outputId": "ced17e0c-c566-48db-ed55-ef4db379b724"
      },
      "execution_count": 9,
      "outputs": [
        {
          "output_type": "execute_result",
          "data": {
            "text/plain": [
              "2"
            ]
          },
          "metadata": {},
          "execution_count": 9
        }
      ]
    },
    {
      "cell_type": "markdown",
      "source": [
        "*MATRIX*[1]"
      ],
      "metadata": {
        "id": "9Plg-gUA0pRY"
      }
    },
    {
      "cell_type": "code",
      "source": [
        "MATRIX.shape"
      ],
      "metadata": {
        "colab": {
          "base_uri": "https://localhost:8080/"
        },
        "id": "Nyih8OsS0ysv",
        "outputId": "aeac3462-1524-427b-b84b-f1f59475d29b"
      },
      "execution_count": 10,
      "outputs": [
        {
          "output_type": "execute_result",
          "data": {
            "text/plain": [
              "torch.Size([2, 2])"
            ]
          },
          "metadata": {},
          "execution_count": 10
        }
      ]
    },
    {
      "cell_type": "markdown",
      "source": [
        "###Random tensors Why random tensors?\n",
        "Random tenstors are important because the way many neural networks learn is that they start with tensors full of random numbers and then adjust those random numbers to better represent the data\n",
        "`start with random numbers -> look at data ->update random numbers -> look at data -> update random numbers`"
      ],
      "metadata": {
        "id": "znrQMz8R1h4l"
      }
    },
    {
      "cell_type": "code",
      "source": [
        "# Create a random tensor of size (3,4)\n",
        "random_tensor = torch.rand(5,4)\n",
        "random_tensor"
      ],
      "metadata": {
        "colab": {
          "base_uri": "https://localhost:8080/"
        },
        "id": "M70flgLX8cQi",
        "outputId": "676d98fa-64a3-4171-f42b-2c5a10c5d036"
      },
      "execution_count": 11,
      "outputs": [
        {
          "output_type": "execute_result",
          "data": {
            "text/plain": [
              "tensor([[0.7798, 0.1384, 0.8644, 0.6749],\n",
              "        [0.2814, 0.7513, 0.8287, 0.9959],\n",
              "        [0.9182, 0.4337, 0.7835, 0.3787],\n",
              "        [0.3266, 0.8638, 0.1541, 0.4449],\n",
              "        [0.1323, 0.8268, 0.3359, 0.3363]])"
            ]
          },
          "metadata": {},
          "execution_count": 11
        }
      ]
    },
    {
      "cell_type": "markdown",
      "source": [
        "*italicized text*"
      ],
      "metadata": {
        "id": "wsbrWwRH84Ac"
      }
    },
    {
      "cell_type": "code",
      "source": [
        "#create a random tensor with similar shape to image tensor\n",
        "random_image_size_tensor = torch.rand(size = (224 , 224 , 3)) #height , width , color channel RGB\n",
        "random_image_size_tensor.shape , random_image_size_tensor.ndim"
      ],
      "metadata": {
        "colab": {
          "base_uri": "https://localhost:8080/"
        },
        "id": "cH5JEPrA86dv",
        "outputId": "3a779107-eb7d-45df-9b65-00b3f1049683"
      },
      "execution_count": 12,
      "outputs": [
        {
          "output_type": "execute_result",
          "data": {
            "text/plain": [
              "(torch.Size([224, 224, 3]), 3)"
            ]
          },
          "metadata": {},
          "execution_count": 12
        }
      ]
    },
    {
      "cell_type": "code",
      "source": [
        "torch.rand(size =(3,3))"
      ],
      "metadata": {
        "colab": {
          "base_uri": "https://localhost:8080/"
        },
        "id": "eZcnTvyy_bam",
        "outputId": "4a0572af-8673-48d5-f832-8a0a832b8ebb"
      },
      "execution_count": 13,
      "outputs": [
        {
          "output_type": "execute_result",
          "data": {
            "text/plain": [
              "tensor([[0.7514, 0.7272, 0.9673],\n",
              "        [0.8336, 0.8604, 0.0557],\n",
              "        [0.8599, 0.4490, 0.4531]])"
            ]
          },
          "metadata": {},
          "execution_count": 13
        }
      ]
    },
    {
      "cell_type": "code",
      "source": [
        "### 0s and 1s\n",
        "zero = torch.zeros(size = (3,4)) ### multiplying any tensor with zero is zerotensor\n",
        "zero\n"
      ],
      "metadata": {
        "colab": {
          "base_uri": "https://localhost:8080/"
        },
        "id": "pj1uHTjJ_gb0",
        "outputId": "6d8af111-88f4-4c85-fe03-12d2a4a1de69"
      },
      "execution_count": 14,
      "outputs": [
        {
          "output_type": "execute_result",
          "data": {
            "text/plain": [
              "tensor([[0., 0., 0., 0.],\n",
              "        [0., 0., 0., 0.],\n",
              "        [0., 0., 0., 0.]])"
            ]
          },
          "metadata": {},
          "execution_count": 14
        }
      ]
    },
    {
      "cell_type": "code",
      "source": [
        "one = torch.ones(4,4)\n",
        "one"
      ],
      "metadata": {
        "colab": {
          "base_uri": "https://localhost:8080/"
        },
        "id": "gR67fGvG_0JX",
        "outputId": "15dba82a-0640-4e81-e91f-6a6bd8f8eb09"
      },
      "execution_count": 15,
      "outputs": [
        {
          "output_type": "execute_result",
          "data": {
            "text/plain": [
              "tensor([[1., 1., 1., 1.],\n",
              "        [1., 1., 1., 1.],\n",
              "        [1., 1., 1., 1.],\n",
              "        [1., 1., 1., 1.]])"
            ]
          },
          "metadata": {},
          "execution_count": 15
        }
      ]
    },
    {
      "cell_type": "code",
      "source": [
        "one.dtype ###dataType they are float32"
      ],
      "metadata": {
        "colab": {
          "base_uri": "https://localhost:8080/"
        },
        "id": "J6gUOcvOAE7-",
        "outputId": "92c02d46-0a21-41b1-8e9c-b8bed3e1067d"
      },
      "execution_count": 16,
      "outputs": [
        {
          "output_type": "execute_result",
          "data": {
            "text/plain": [
              "torch.float32"
            ]
          },
          "metadata": {},
          "execution_count": 16
        }
      ]
    },
    {
      "cell_type": "markdown",
      "source": [
        "creating a range of tensors and tensors-like"
      ],
      "metadata": {
        "id": "vJ2zP08pAZLx"
      }
    },
    {
      "cell_type": "code",
      "source": [
        "zeroToTen = torch.arange(0 , 10  ) ### 0 to 10  after range you can also give step like 2"
      ],
      "metadata": {
        "id": "TQh209EzAc6C"
      },
      "execution_count": 17,
      "outputs": []
    },
    {
      "cell_type": "code",
      "source": [
        "tenzeros = torch.zeros_like(input = zeroToTen)\n",
        "tenzeros"
      ],
      "metadata": {
        "colab": {
          "base_uri": "https://localhost:8080/"
        },
        "id": "1lToRQzxBBHl",
        "outputId": "9e57beed-c163-4691-a8eb-ab183d486d83"
      },
      "execution_count": 18,
      "outputs": [
        {
          "output_type": "execute_result",
          "data": {
            "text/plain": [
              "tensor([0, 0, 0, 0, 0, 0, 0, 0, 0, 0])"
            ]
          },
          "metadata": {},
          "execution_count": 18
        }
      ]
    },
    {
      "cell_type": "code",
      "source": [
        "###Tensor datatypes"
      ],
      "metadata": {
        "id": "ZTl_DsQRCSE-"
      },
      "execution_count": 19,
      "outputs": []
    },
    {
      "cell_type": "code",
      "source": [
        "##dataype eg float32/16 ,   device is if cpu / gpu cuda , grad is gradience\n",
        "float_32 = torch.tensor([3.0,6.0,9.0] , dtype= None , device=None , requires_grad=False)\n",
        "float_32.dtype"
      ],
      "metadata": {
        "colab": {
          "base_uri": "https://localhost:8080/"
        },
        "id": "WZn5oZSsCVBN",
        "outputId": "1f6a95d6-849c-4c75-f6cd-cbbc6edda16f"
      },
      "execution_count": 20,
      "outputs": [
        {
          "output_type": "execute_result",
          "data": {
            "text/plain": [
              "torch.float32"
            ]
          },
          "metadata": {},
          "execution_count": 20
        }
      ]
    },
    {
      "cell_type": "code",
      "source": [
        "float16Tensor = float_32.type(torch.float16)\n",
        "float16Tensor"
      ],
      "metadata": {
        "colab": {
          "base_uri": "https://localhost:8080/"
        },
        "id": "2F79igQAEUtn",
        "outputId": "b8a2f0e0-38d7-434d-aa1f-b148250a8757"
      },
      "execution_count": 21,
      "outputs": [
        {
          "output_type": "execute_result",
          "data": {
            "text/plain": [
              "tensor([3., 6., 9.], dtype=torch.float16)"
            ]
          },
          "metadata": {},
          "execution_count": 21
        }
      ]
    },
    {
      "cell_type": "code",
      "source": [
        "mul = float16Tensor * float_32\n",
        "mul"
      ],
      "metadata": {
        "colab": {
          "base_uri": "https://localhost:8080/"
        },
        "id": "UjdBd8wGEq2z",
        "outputId": "5a2557bf-41e3-464d-d33a-2878eabc2cab"
      },
      "execution_count": 22,
      "outputs": [
        {
          "output_type": "execute_result",
          "data": {
            "text/plain": [
              "tensor([ 9., 36., 81.])"
            ]
          },
          "metadata": {},
          "execution_count": 22
        }
      ]
    },
    {
      "cell_type": "markdown",
      "source": [
        "###Tensor operation include :\n",
        "addition , substraction , division , multiplication , matrix multiplication"
      ],
      "metadata": {
        "id": "uQ_D7xtcKmyM"
      }
    },
    {
      "cell_type": "code",
      "source": [
        "tensor = torch.tensor([1,2,3])\n",
        "tensor +10"
      ],
      "metadata": {
        "colab": {
          "base_uri": "https://localhost:8080/"
        },
        "id": "RfccmqmKKv_f",
        "outputId": "4eda2333-42c7-4140-ad7e-6662790f71ef"
      },
      "execution_count": 23,
      "outputs": [
        {
          "output_type": "execute_result",
          "data": {
            "text/plain": [
              "tensor([11, 12, 13])"
            ]
          },
          "metadata": {},
          "execution_count": 23
        }
      ]
    },
    {
      "cell_type": "code",
      "source": [
        "tensor * 10"
      ],
      "metadata": {
        "colab": {
          "base_uri": "https://localhost:8080/"
        },
        "id": "14_f1CFKLChv",
        "outputId": "aa6ba94a-7826-47bb-f678-374fc922bebd"
      },
      "execution_count": 24,
      "outputs": [
        {
          "output_type": "execute_result",
          "data": {
            "text/plain": [
              "tensor([10, 20, 30])"
            ]
          },
          "metadata": {},
          "execution_count": 24
        }
      ]
    },
    {
      "cell_type": "code",
      "source": [
        "tensor / 5"
      ],
      "metadata": {
        "colab": {
          "base_uri": "https://localhost:8080/"
        },
        "id": "CgT3iiubLFgT",
        "outputId": "12170074-b95d-4ec9-96e2-faf704573421"
      },
      "execution_count": 25,
      "outputs": [
        {
          "output_type": "execute_result",
          "data": {
            "text/plain": [
              "tensor([0.2000, 0.4000, 0.6000])"
            ]
          },
          "metadata": {},
          "execution_count": 25
        }
      ]
    },
    {
      "cell_type": "code",
      "source": [
        "tensor - 10"
      ],
      "metadata": {
        "colab": {
          "base_uri": "https://localhost:8080/"
        },
        "id": "KCuhrQevLSaR",
        "outputId": "6b38f163-d2c2-4e38-896c-c0d8f3cff341"
      },
      "execution_count": 26,
      "outputs": [
        {
          "output_type": "execute_result",
          "data": {
            "text/plain": [
              "tensor([-9, -8, -7])"
            ]
          },
          "metadata": {},
          "execution_count": 26
        }
      ]
    },
    {
      "cell_type": "code",
      "source": [
        "###inbuilt function\n",
        "torch.mul(tensor , 10)\n",
        "#torch.add ... etc\n"
      ],
      "metadata": {
        "colab": {
          "base_uri": "https://localhost:8080/"
        },
        "id": "lxu7da9KLazj",
        "outputId": "82b97bf7-6e98-4396-e650-5571045f0fea"
      },
      "execution_count": 27,
      "outputs": [
        {
          "output_type": "execute_result",
          "data": {
            "text/plain": [
              "tensor([10, 20, 30])"
            ]
          },
          "metadata": {},
          "execution_count": 27
        }
      ]
    },
    {
      "cell_type": "markdown",
      "source": [
        "###Matrix multiplication\n",
        "mainly two way in neural network and deeplearning\n",
        "1. element-wise multiplication\n",
        "2. Matrix multiplication (dot product)"
      ],
      "metadata": {
        "id": "1OG_Q7VZLzea"
      }
    },
    {
      "cell_type": "code",
      "source": [
        "#element wise multiplication\n",
        "tensor * tensor"
      ],
      "metadata": {
        "colab": {
          "base_uri": "https://localhost:8080/"
        },
        "id": "NcsrETVJL9it",
        "outputId": "a246c88c-f99c-4167-9928-2697da6cf74d"
      },
      "execution_count": 28,
      "outputs": [
        {
          "output_type": "execute_result",
          "data": {
            "text/plain": [
              "tensor([1, 4, 9])"
            ]
          },
          "metadata": {},
          "execution_count": 28
        }
      ]
    },
    {
      "cell_type": "code",
      "source": [
        "#Matrix multiplication\n",
        "torch.matmul(tensor , tensor) # 1*1 + 2*2 + 3*3"
      ],
      "metadata": {
        "colab": {
          "base_uri": "https://localhost:8080/"
        },
        "id": "w42sDDxDO5N7",
        "outputId": "8f6bae4c-1af6-43ac-baf2-3404efdb6c20"
      },
      "execution_count": 29,
      "outputs": [
        {
          "output_type": "execute_result",
          "data": {
            "text/plain": [
              "tensor(14)"
            ]
          },
          "metadata": {},
          "execution_count": 29
        }
      ]
    },
    {
      "cell_type": "code",
      "source": [
        "tensor1 = torch.rand(3,3)\n",
        "tensor2 = torch.rand(3,3)\n",
        "mul = torch.matmul(tensor1 , tensor2) # tensor1 @ tensor2 also does the same\n",
        "mul"
      ],
      "metadata": {
        "colab": {
          "base_uri": "https://localhost:8080/"
        },
        "id": "DsDe-gCiPjji",
        "outputId": "ab15c0c1-c480-441d-988c-de7efe239750"
      },
      "execution_count": 30,
      "outputs": [
        {
          "output_type": "execute_result",
          "data": {
            "text/plain": [
              "tensor([[0.2321, 0.9770, 0.7902],\n",
              "        [0.0720, 0.1678, 0.1154],\n",
              "        [0.1334, 0.8642, 0.6721]])"
            ]
          },
          "metadata": {},
          "execution_count": 30
        }
      ]
    },
    {
      "cell_type": "code",
      "source": [
        "## finiding tensor aggregation min max sum etc"
      ],
      "metadata": {
        "id": "YPtIioI6Q_PG"
      },
      "execution_count": 31,
      "outputs": []
    },
    {
      "cell_type": "markdown",
      "source": [
        "x = torch.arange(0,100)\n",
        "torch.min(x) , torch.max(x)"
      ],
      "metadata": {
        "id": "g2XVpjWzsd0E"
      }
    },
    {
      "cell_type": "markdown",
      "source": [],
      "metadata": {
        "id": "4RRXWKsvtA8K"
      }
    },
    {
      "cell_type": "markdown",
      "source": [
        "## torch.mean(x.tmype(torch.float32))"
      ],
      "metadata": {
        "id": "bMbxmZyttBMQ"
      }
    },
    {
      "cell_type": "code",
      "source": [
        "x = torch.rand(5,5)"
      ],
      "metadata": {
        "id": "VnwCeOs_azwz"
      },
      "execution_count": 39,
      "outputs": []
    },
    {
      "cell_type": "markdown",
      "source": [
        "torch.sum(x) , x.sum()m"
      ],
      "metadata": {
        "id": "AahXEuvptc4-"
      }
    },
    {
      "cell_type": "code",
      "source": [
        "##finding positional min and max"
      ],
      "metadata": {
        "id": "9-_SXn-9tuFb"
      },
      "execution_count": 35,
      "outputs": []
    },
    {
      "cell_type": "code",
      "source": [
        "x.argmin()  # position where there is minimum value => return index i"
      ],
      "metadata": {
        "colab": {
          "base_uri": "https://localhost:8080/"
        },
        "id": "MJZ5RwGDt9Ie",
        "outputId": "f4eea880-b36e-4998-ccb2-a9fd8b4fff91"
      },
      "execution_count": 40,
      "outputs": [
        {
          "output_type": "execute_result",
          "data": {
            "text/plain": [
              "tensor(2)"
            ]
          },
          "metadata": {},
          "execution_count": 40
        }
      ]
    },
    {
      "cell_type": "code",
      "source": [
        "x.argmax()# position where there is maximum valeu => return index  i"
      ],
      "metadata": {
        "colab": {
          "base_uri": "https://localhost:8080/"
        },
        "id": "oF1pVngzt_65",
        "outputId": "6950b111-aa8b-4df1-ba9f-ff12239fdbe1"
      },
      "execution_count": 41,
      "outputs": [
        {
          "output_type": "execute_result",
          "data": {
            "text/plain": [
              "tensor(12)"
            ]
          },
          "metadata": {},
          "execution_count": 41
        }
      ]
    },
    {
      "cell_type": "markdown",
      "source": [
        "##reshaping - reshaps an input tensor to defined shape\n",
        "## view -  return a view of input tensor of shape but keep the same memory as the original tensor\n",
        "#stack - combine multiple tensors on top of eachother vstack or side by side hstack\n",
        "# squeez removes all 1 dimensions from tensor\n",
        "' unsqueze add all dimension in target tensor'\n",
        "#permute = reture a view of the input wiht dimesoion permuted swap in certain way"
      ],
      "metadata": {
        "id": "PH5Zvb-9uL_r"
      }
    },
    {
      "cell_type": "code",
      "source": [
        "x = torch.arange(1. , 10.)\n",
        "x , x.shape"
      ],
      "metadata": {
        "colab": {
          "base_uri": "https://localhost:8080/"
        },
        "id": "8YAeLJEUb59-",
        "outputId": "7276bd3e-4919-4dc2-d1f7-8a4b96569de3"
      },
      "execution_count": 42,
      "outputs": [
        {
          "output_type": "execute_result",
          "data": {
            "text/plain": [
              "(tensor([1., 2., 3., 4., 5., 6., 7., 8., 9.]), torch.Size([9]))"
            ]
          },
          "metadata": {},
          "execution_count": 42
        }
      ]
    },
    {
      "cell_type": "code",
      "source": [
        "#add extra dimension\n",
        "x_reshape = x.reshape(3,3)\n",
        "x_reshape , x.shape"
      ],
      "metadata": {
        "colab": {
          "base_uri": "https://localhost:8080/"
        },
        "id": "FMTfSVzFcCC8",
        "outputId": "1e10f33a-2435-42df-9137-6685fc3c9a56"
      },
      "execution_count": 46,
      "outputs": [
        {
          "output_type": "execute_result",
          "data": {
            "text/plain": [
              "(tensor([[1., 2., 3.],\n",
              "         [4., 5., 6.],\n",
              "         [7., 8., 9.]]),\n",
              " torch.Size([9]))"
            ]
          },
          "metadata": {},
          "execution_count": 46
        }
      ]
    }
  ]
}