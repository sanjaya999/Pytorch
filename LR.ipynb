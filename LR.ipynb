{
  "nbformat": 4,
  "nbformat_minor": 0,
  "metadata": {
    "colab": {
      "provenance": [],
      "authorship_tag": "ABX9TyM0KOrwb7+vA3ySpRdtm9Jv",
      "include_colab_link": true
    },
    "kernelspec": {
      "name": "python3",
      "display_name": "Python 3"
    },
    "language_info": {
      "name": "python"
    }
  },
  "cells": [
    {
      "cell_type": "markdown",
      "metadata": {
        "id": "view-in-github",
        "colab_type": "text"
      },
      "source": [
        "<a href=\"https://colab.research.google.com/github/sanjaya999/Pytorch/blob/main/LR.ipynb\" target=\"_parent\"><img src=\"https://colab.research.google.com/assets/colab-badge.svg\" alt=\"Open In Colab\"/></a>"
      ]
    },
    {
      "cell_type": "code",
      "execution_count": 1,
      "metadata": {
        "id": "XMSOEsaFM1uJ"
      },
      "outputs": [],
      "source": [
        "import torch"
      ]
    },
    {
      "cell_type": "code",
      "source": [
        "#create known parameter\n",
        "weight = 0.7\n",
        "bias = 0.3\n",
        "\n",
        "#create\n",
        "start = 0\n",
        "end = 50\n",
        "\n",
        "step = 0.02\n",
        "\n",
        "X = torch.arange(start , end).unsqueeze(dim = 1)\n",
        "y  = weight * X + bias\n",
        "X[:10] , y[:10] ,len(X) ,len(y)"
      ],
      "metadata": {
        "colab": {
          "base_uri": "https://localhost:8080/"
        },
        "id": "VZbHchflM44R",
        "outputId": "b919c985-e638-4cd1-f23d-afe0f0e81bc2"
      },
      "execution_count": 2,
      "outputs": [
        {
          "output_type": "execute_result",
          "data": {
            "text/plain": [
              "(tensor([[0],\n",
              "         [1],\n",
              "         [2],\n",
              "         [3],\n",
              "         [4],\n",
              "         [5],\n",
              "         [6],\n",
              "         [7],\n",
              "         [8],\n",
              "         [9]]),\n",
              " tensor([[0.3000],\n",
              "         [1.0000],\n",
              "         [1.7000],\n",
              "         [2.4000],\n",
              "         [3.1000],\n",
              "         [3.8000],\n",
              "         [4.5000],\n",
              "         [5.2000],\n",
              "         [5.9000],\n",
              "         [6.6000]]),\n",
              " 50,\n",
              " 50)"
            ]
          },
          "metadata": {},
          "execution_count": 2
        }
      ]
    },
    {
      "cell_type": "code",
      "source": [
        "#create a train / test split\n",
        "\n",
        "train_split = int(0.8* len(X))\n",
        "xtrain , ytrain = X[:train_split] , y[:train_split]\n",
        "xtest , ytest = X[train_split:] , y[train_split:]\n",
        "\n",
        "len(xtrain) , len(ytrain) , len(xtest) , len(ytest)\n",
        "\n",
        "\n"
      ],
      "metadata": {
        "colab": {
          "base_uri": "https://localhost:8080/"
        },
        "id": "dTU4sehyM-uD",
        "outputId": "62c470f3-3a51-48ed-aaae-3d4fc35be6c4"
      },
      "execution_count": 3,
      "outputs": [
        {
          "output_type": "execute_result",
          "data": {
            "text/plain": [
              "(40, 40, 10, 10)"
            ]
          },
          "metadata": {},
          "execution_count": 3
        }
      ]
    },
    {
      "cell_type": "code",
      "source": [
        "import matplotlib.pyplot as plt\n",
        "\n",
        "#visualize the data\n",
        "def plotPrediction(trainData = xtrain , trailLabel = ytrain , testData = xtest , testLabel = ytest\n",
        "                   ,prediction = None):\n",
        "  plt.figure(figsize=(10 , 7))\n",
        "  plt.scatter(trainData , trailLabel , c = \"b\" , s=4 , label=\"Trainind data\")\n",
        "\n",
        "  plt.scatter(testData , testLabel , c = \"g\" , s = 4 , label=\"testing data\")\n",
        "\n",
        "  if prediction is not None:\n",
        "    plt.scatter(testData , prediction, c = \"r\" , label = \"predictions\" )\n",
        "\n",
        "  plt.legend(prop={\"size\": 14})"
      ],
      "metadata": {
        "id": "5y6tdwaNNA4c"
      },
      "execution_count": 4,
      "outputs": []
    },
    {
      "cell_type": "code",
      "source": [
        "plotPrediction();"
      ],
      "metadata": {
        "colab": {
          "base_uri": "https://localhost:8080/",
          "height": 586
        },
        "id": "dq-5LVnjND5E",
        "outputId": "0cff058f-bab3-48dc-e6df-fb81c2a4bf56"
      },
      "execution_count": 5,
      "outputs": [
        {
          "output_type": "display_data",
          "data": {
            "text/plain": [
              "<Figure size 1000x700 with 1 Axes>"
            ],
            "image/png": "[encoded data removed]"
          },
          "metadata": {}
        }
      ]
    },
    {
      "cell_type": "code",
      "source": [
        "import torch\n",
        "import torch.nn as nn\n",
        "\n",
        "# Create Linear Regression Model class\n",
        "class LinearRegressionModel(nn.Module):  # Almost everything in PyTorch inherits from nn.Module\n",
        "    def __init__(self):\n",
        "        super().__init__()\n",
        "        # Initialize parameters\n",
        "        self.weight = nn.Parameter(torch.randn(1, requires_grad=True, dtype=torch.float))  # Weight parameter\n",
        "        self.bias = nn.Parameter(torch.randn(1, requires_grad=True, dtype=torch.float))    # Bias parameter\n",
        "\n",
        "    def forward(self, x: torch.Tensor) -> torch.Tensor:\n",
        "        # Define the forward pass\n",
        "        return self.weight * x + self.bias  # Linear regression formula: y = weight * x + bias\n",
        "\n",
        "# Instantiate the model\n",
        "model0 = LinearRegressionModel()\n",
        "\n",
        "# Example usage\n",
        "xtest = torch.tensor([[1.0], [2.0], [3.0]])  # Example input tensor\n",
        "with torch.inference_mode():\n",
        "    y_pred = model0(xtest)\n",
        "    print(y_pred)"
      ],
      "metadata": {
        "colab": {
          "base_uri": "https://localhost:8080/"
        },
        "id": "jb7W6optNErY",
        "outputId": "ff39f0e4-bcb5-4d8d-ffd5-60170f500d53"
      },
      "execution_count": 6,
      "outputs": [
        {
          "output_type": "stream",
          "name": "stdout",
          "text": [
            "tensor([[-0.6352],\n",
            "        [-1.0016],\n",
            "        [-1.3680]])\n"
          ]
        }
      ]
    },
    {
      "cell_type": "code",
      "source": [
        "###creating instance of our model\n",
        "\n",
        "torch.manual_seed(42)\n",
        "\n",
        "model0 = LinearRegressionModel()\n",
        "\n",
        "list(model0.parameters())\n"
      ],
      "metadata": {
        "colab": {
          "base_uri": "https://localhost:8080/"
        },
        "id": "BpJEvqK2NGQR",
        "outputId": "d0cd365f-7489-424f-93b8-4cf5a56ab7af"
      },
      "execution_count": 7,
      "outputs": [
        {
          "output_type": "execute_result",
          "data": {
            "text/plain": [
              "[Parameter containing:\n",
              " tensor([0.3367], requires_grad=True),\n",
              " Parameter containing:\n",
              " tensor([0.1288], requires_grad=True)]"
            ]
          },
          "metadata": {},
          "execution_count": 7
        }
      ]
    },
    {
      "cell_type": "code",
      "source": [
        "###making prediction using torch.inference_mode()\n",
        "with torch.inference_mode():\n",
        "  y_pred = model0(xtest)\n",
        "y_pred"
      ],
      "metadata": {
        "colab": {
          "base_uri": "https://localhost:8080/"
        },
        "id": "KObnKEbTNIQ_",
        "outputId": "96a75c49-0579-461f-bb85-369fea1ddebb"
      },
      "execution_count": 8,
      "outputs": [
        {
          "output_type": "execute_result",
          "data": {
            "text/plain": [
              "tensor([[0.4655],\n",
              "        [0.8022],\n",
              "        [1.1389]])"
            ]
          },
          "metadata": {},
          "execution_count": 8
        }
      ]
    }
  ]
}