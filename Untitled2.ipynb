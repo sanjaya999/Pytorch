{
  "nbformat": 4,
  "nbformat_minor": 0,
  "metadata": {
    "colab": {
      "provenance": [],
      "authorship_tag": "ABX9TyOJonN2CK0OJQ+NnTQ90R0J",
      "include_colab_link": true
    },
    "kernelspec": {
      "name": "python3",
      "display_name": "Python 3"
    },
    "language_info": {
      "name": "python"
    }
  },
  "cells": [
    {
      "cell_type": "markdown",
      "metadata": {
        "id": "view-in-github",
        "colab_type": "text"
      },
      "source": [
        "<a href=\"https://colab.research.google.com/github/sanjaya999/Pytorch/blob/main/Untitled2.ipynb\" target=\"_parent\"><img src=\"https://colab.research.google.com/assets/colab-badge.svg\" alt=\"Open In Colab\"/></a>"
      ]
    },
    {
      "cell_type": "code",
      "execution_count": 60,
      "metadata": {
        "id": "XMSOEsaFM1uJ"
      },
      "outputs": [],
      "source": [
        "import torch"
      ]
    },
    {
      "cell_type": "code",
      "source": [
        "#create known parameter\n",
        "weight = 0.7\n",
        "bias = 0.3\n",
        "\n",
        "#create\n",
        "start = 0\n",
        "end = 50\n",
        "\n",
        "step = 0.02\n",
        "\n",
        "X = torch.arange(start , end).unsqueeze(dim = 1)\n",
        "y  = weight * X + bias\n",
        "X[:10] , y[:10] ,len(X) ,len(y)"
      ],
      "metadata": {
        "colab": {
          "base_uri": "https://localhost:8080/"
        },
        "id": "VZbHchflM44R",
        "outputId": "6d200b9b-144b-4b03-f014-a967edb09761"
      },
      "execution_count": 61,
      "outputs": [
        {
          "output_type": "execute_result",
          "data": {
            "text/plain": [
              "(tensor([[0],\n",
              "         [1],\n",
              "         [2],\n",
              "         [3],\n",
              "         [4],\n",
              "         [5],\n",
              "         [6],\n",
              "         [7],\n",
              "         [8],\n",
              "         [9]]),\n",
              " tensor([[0.3000],\n",
              "         [1.0000],\n",
              "         [1.7000],\n",
              "         [2.4000],\n",
              "         [3.1000],\n",
              "         [3.8000],\n",
              "         [4.5000],\n",
              "         [5.2000],\n",
              "         [5.9000],\n",
              "         [6.6000]]),\n",
              " 50,\n",
              " 50)"
            ]
          },
          "metadata": {},
          "execution_count": 61
        }
      ]
    },
    {
      "cell_type": "code",
      "source": [
        "# Create train/test split\n",
        "train_split = int(0.8 * len(X)) # 80% of data used for training set, 20% for testing\n",
        "X_train, y_train = X[:train_split], y[:train_split]\n",
        "X_test, y_test = X[train_split:], y[train_split:]\n",
        "\n",
        "len(X_train), len(y_train), len(X_test), len(y_test)\n"
      ],
      "metadata": {
        "colab": {
          "base_uri": "https://localhost:8080/"
        },
        "id": "dTU4sehyM-uD",
        "outputId": "80365fa2-4624-49ad-b115-e477baa560b1"
      },
      "execution_count": 62,
      "outputs": [
        {
          "output_type": "execute_result",
          "data": {
            "text/plain": [
              "(40, 40, 10, 10)"
            ]
          },
          "metadata": {},
          "execution_count": 62
        }
      ]
    },
    {
      "cell_type": "code",
      "source": [
        "def plot_predictions(train_data=X_train,\n",
        "                     train_labels=y_train,\n",
        "                     test_data=X_test,\n",
        "                     test_labels=y_test,\n",
        "                     predictions=None):\n",
        "  \"\"\"\n",
        "  Plots training data, test data and compares predictions.\n",
        "  \"\"\"\n",
        "  plt.figure(figsize=(10, 7))\n",
        "\n",
        "  # Plot training data in blue\n",
        "  plt.scatter(train_data, train_labels, c=\"b\", s=4, label=\"Training data\")\n",
        "\n",
        "  # Plot test data in green\n",
        "  plt.scatter(test_data, test_labels, c=\"g\", s=4, label=\"Testing data\")\n",
        "\n",
        "  if predictions is not None:\n",
        "    # Plot the predictions in red (predictions were made on the test data)\n",
        "    plt.scatter(test_data, predictions, c=\"r\", s=4, label=\"Predictions\")\n",
        "\n",
        "  # Show the legend\n",
        "  plt.legend(prop={\"size\": 14});"
      ],
      "metadata": {
        "id": "5y6tdwaNNA4c"
      },
      "execution_count": 63,
      "outputs": []
    },
    {
      "cell_type": "code",
      "source": [
        "plot_predictions();\n"
      ],
      "metadata": {
        "colab": {
          "base_uri": "https://localhost:8080/",
          "height": 586
        },
        "id": "dq-5LVnjND5E",
        "outputId": "091103e1-4f48-435d-eaa8-63b36262bf14"
      },
      "execution_count": 64,
      "outputs": [
        {
          "output_type": "display_data",
          "data": {
            "text/plain": [
              "<Figure size 1000x700 with 1 Axes>"
            ],
            "image/png": "[encoded data removed]"
          },
          "metadata": {}
        }
      ]
    },
    {
      "cell_type": "code",
      "source": [
        "class LinearRegressionModel(nn.Module): # <- almost everything in PyTorch is a nn.Module (think of this as neural network lego blocks)\n",
        "    def __init__(self):\n",
        "        super().__init__()\n",
        "        self.weights = nn.Parameter(torch.randn(1, # <- start with random weights (this will get adjusted as the model learns)\n",
        "                                                dtype=torch.float), # <- PyTorch loves float32 by default\n",
        "                                   requires_grad=True) # <- can we update this value with gradient descent?)\n",
        "\n",
        "        self.bias = nn.Parameter(torch.randn(1, # <- start with random bias (this will get adjusted as the model learns)\n",
        "                                            dtype=torch.float), # <- PyTorch loves float32 by default\n",
        "                                requires_grad=True) # <- can we update this value with gradient descent?))\n",
        "\n",
        "    # Forward defines the computation in the model\n",
        "    def forward(self, x: torch.Tensor) -> torch.Tensor: # <- \"x\" is the input data (e.g. training/testing features)\n",
        "        return self.weights * x + self.bias # <- this is the linear regression formula (y = m*x + b)"
      ],
      "metadata": {
        "id": "jb7W6optNErY"
      },
      "execution_count": 65,
      "outputs": []
    },
    {
      "cell_type": "code",
      "source": [
        "# Set manual seed since nn.Parameter are randomly initialized\n",
        "torch.manual_seed(42)\n",
        "\n",
        "# Create an instance of the model (this is a subclass of nn.Module that contains nn.Parameter(s))\n",
        "model_0 = LinearRegressionModel()\n",
        "\n",
        "# Check the nn.Parameter(s) within the nn.Module subclass we created\n",
        "list(model_0.parameters())"
      ],
      "metadata": {
        "colab": {
          "base_uri": "https://localhost:8080/"
        },
        "id": "BpJEvqK2NGQR",
        "outputId": "1c934c5d-42ce-4766-8230-908de628e42c"
      },
      "execution_count": 66,
      "outputs": [
        {
          "output_type": "execute_result",
          "data": {
            "text/plain": [
              "[Parameter containing:\n",
              " tensor([0.3367], requires_grad=True),\n",
              " Parameter containing:\n",
              " tensor([0.1288], requires_grad=True)]"
            ]
          },
          "metadata": {},
          "execution_count": 66
        }
      ]
    },
    {
      "cell_type": "code",
      "source": [
        "# Make predictions with model\n",
        "with torch.inference_mode():\n",
        "    y_preds = model_0(X_test)\n",
        "\n",
        "# Note: in older PyTorch code you might also see torch.no_grad()\n",
        "# with torch.no_grad():\n",
        "#   y_preds = model_0(X_test)"
      ],
      "metadata": {
        "id": "KObnKEbTNIQ_"
      },
      "execution_count": 67,
      "outputs": []
    },
    {
      "cell_type": "code",
      "source": [
        "\n",
        "# Check the predictions\n",
        "print(f\"Number of testing samples: {len(X_test)}\")\n",
        "print(f\"Number of predictions made: {len(y_preds)}\")\n",
        "print(f\"Predicted values:\\n{y_preds}\")"
      ],
      "metadata": {
        "colab": {
          "base_uri": "https://localhost:8080/"
        },
        "id": "tQsmSVnjRvPH",
        "outputId": "bb13aa8b-d3da-40fd-8502-8bbb49512343"
      },
      "execution_count": 68,
      "outputs": [
        {
          "output_type": "stream",
          "name": "stdout",
          "text": [
            "Number of testing samples: 10\n",
            "Number of predictions made: 10\n",
            "Predicted values:\n",
            "tensor([[13.5964],\n",
            "        [13.9331],\n",
            "        [14.2698],\n",
            "        [14.6065],\n",
            "        [14.9432],\n",
            "        [15.2799],\n",
            "        [15.6166],\n",
            "        [15.9533],\n",
            "        [16.2899],\n",
            "        [16.6266]])\n"
          ]
        }
      ]
    },
    {
      "cell_type": "code",
      "source": [
        "y_test - y_preds"
      ],
      "metadata": {
        "colab": {
          "base_uri": "https://localhost:8080/"
        },
        "id": "LaqUJ14LAquR",
        "outputId": "aa0d512c-b263-4df4-a874-b05e5cc44d9d"
      },
      "execution_count": 69,
      "outputs": [
        {
          "output_type": "execute_result",
          "data": {
            "text/plain": [
              "tensor([[14.7036],\n",
              "        [15.0669],\n",
              "        [15.4302],\n",
              "        [15.7935],\n",
              "        [16.1568],\n",
              "        [16.5201],\n",
              "        [16.8834],\n",
              "        [17.2467],\n",
              "        [17.6101],\n",
              "        [17.9734]])"
            ]
          },
          "metadata": {},
          "execution_count": 69
        }
      ]
    },
    {
      "cell_type": "code",
      "source": [
        "plot_predictions(predictions = y_preds)"
      ],
      "metadata": {
        "colab": {
          "base_uri": "https://localhost:8080/",
          "height": 586
        },
        "id": "WHPvmXGrBfJl",
        "outputId": "1968ce17-883b-4d4b-d82c-cd00ec1d3ec6"
      },
      "execution_count": 70,
      "outputs": [
        {
          "output_type": "display_data",
          "data": {
            "text/plain": [
              "<Figure size 1000x700 with 1 Axes>"
            ],
            "image/png": "[encoded data removed]"
          },
          "metadata": {}
        }
      ]
    },
    {
      "cell_type": "code",
      "source": [
        "#loss function\n",
        "\n",
        "loss_fn = nn.L1Loss()\n",
        "\n",
        "#optimizer\n",
        "optimizer= torch.optim.SGD(params = model_0.parameters() , lr= 0.001)"
      ],
      "metadata": {
        "id": "6eAOlPhHB-Oe"
      },
      "execution_count": 71,
      "outputs": []
    },
    {
      "cell_type": "code",
      "source": [],
      "metadata": {
        "id": "sov_-_5MKA9r"
      },
      "execution_count": 71,
      "outputs": []
    },
    {
      "cell_type": "code",
      "source": [
        "#building a training loop and testing loop in pytorch\n",
        "epochs = 10000 # one loop through the data\n",
        "\n",
        "for epochs in range(epochs):\n",
        "  #training mode\n",
        "  model_0.train() #train\n",
        "\n",
        "  #forward pass\n",
        "\n",
        "  y_pred = model_0(X_train)\n",
        "\n",
        "  #calculate loss\n",
        "  loss = loss_fn(y_pred , y_train)\n",
        "  #optimizer zero grad\n",
        "  optimizer.zero_grad()\n",
        "\n",
        "  #perform backpropagation on the loss with respect to the parameters o fthe model\n",
        "  loss.backward()\n",
        "\n",
        "  #step the optimizer\n",
        "  optimizer.step()\n",
        "\n",
        "  model_0.eval()\n",
        "\n",
        "  with torch.inference_mode():\n",
        "    test_pred = model_0(X_test)\n",
        "\n",
        "    test_loss = loss_fn(test_pred , y_test)\n",
        "\n",
        "\n",
        "\n",
        ""
      ],
      "metadata": {
        "id": "kwncHfVgGmTF"
      },
      "execution_count": 78,
      "outputs": []
    },
    {
      "cell_type": "code",
      "source": [
        "with torch.inference_mode():\n",
        "  y_preds_new = model_0(X_test)"
      ],
      "metadata": {
        "id": "di2RVeHlXDSV"
      },
      "execution_count": 79,
      "outputs": []
    },
    {
      "cell_type": "code",
      "source": [
        "plot_predictions(predictions = y_preds_new)"
      ],
      "metadata": {
        "colab": {
          "base_uri": "https://localhost:8080/",
          "height": 586
        },
        "id": "X_gpJTISXUFM",
        "outputId": "1302aef4-1c4a-42f9-b0e3-92029d116c6c"
      },
      "execution_count": 80,
      "outputs": [
        {
          "output_type": "display_data",
          "data": {
            "text/plain": [
              "<Figure size 1000x700 with 1 Axes>"
            ],
            "image/png": "[encoded data removed]"
          },
          "metadata": {}
        }
      ]
    },
    {
      "cell_type": "code",
      "source": [
        "model_0.state_dict()"
      ],
      "metadata": {
        "colab": {
          "base_uri": "https://localhost:8080/"
        },
        "id": "PkZdG3DUV7LR",
        "outputId": "c6527bfb-10fe-46cb-e29b-777cbda871e6"
      },
      "execution_count": 82,
      "outputs": [
        {
          "output_type": "execute_result",
          "data": {
            "text/plain": [
              "OrderedDict([('weights', tensor([0.7000])), ('bias', tensor([0.2990]))])"
            ]
          },
          "metadata": {},
          "execution_count": 82
        }
      ]
    },
    {
      "cell_type": "code",
      "source": [
        "weight , bias"
      ],
      "metadata": {
        "colab": {
          "base_uri": "https://localhost:8080/"
        },
        "id": "fKOqshKCWJPl",
        "outputId": "508ff918-1192-4f01-d483-8ac814998a62"
      },
      "execution_count": 74,
      "outputs": [
        {
          "output_type": "execute_result",
          "data": {
            "text/plain": [
              "(0.7, 0.3)"
            ]
          },
          "metadata": {},
          "execution_count": 74
        }
      ]
    },
    {
      "cell_type": "code",
      "source": [],
      "metadata": {
        "id": "ev-mISEFaCAJ"
      },
      "execution_count": 83,
      "outputs": []
    }
  ]
}